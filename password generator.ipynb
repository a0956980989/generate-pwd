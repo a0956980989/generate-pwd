{
 "cells": [
  {
   "cell_type": "code",
   "execution_count": 5,
   "metadata": {},
   "outputs": [],
   "source": [
    "import random\n",
    "import string\n",
    "\n",
    "def generate_pw():\n",
    "    length = random.randint(6,20) - 3\n",
    "    pwd = []\n",
    "    for i in range(length):\n",
    "        pwd.append(random.choice(string.ascii_lowercase))\n",
    "        pwd.append(random.choice(string.ascii_uppercase))\n",
    "        pwd.append(str(random.randint(0,9)))\n",
    "\n",
    "    random.shuffle(pwd)\n",
    "    return ''.join(pwd)"
   ]
  },
  {
   "cell_type": "code",
   "execution_count": 6,
   "metadata": {},
   "outputs": [
    {
     "data": {
      "text/plain": [
       "'z7z8MMs9Sp0K'"
      ]
     },
     "execution_count": 6,
     "metadata": {},
     "output_type": "execute_result"
    }
   ],
   "source": [
    "generate_pw()"
   ]
  }
 ],
 "metadata": {
  "kernelspec": {
   "display_name": "Python 3",
   "language": "python",
   "name": "python3"
  },
  "language_info": {
   "codemirror_mode": {
    "name": "ipython",
    "version": 3
   },
   "file_extension": ".py",
   "mimetype": "text/x-python",
   "name": "python",
   "nbconvert_exporter": "python",
   "pygments_lexer": "ipython3",
   "version": "3.6.4"
  }
 },
 "nbformat": 4,
 "nbformat_minor": 2
}
